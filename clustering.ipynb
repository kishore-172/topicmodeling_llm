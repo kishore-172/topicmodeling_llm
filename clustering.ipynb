{
 "cells": [
  {
   "cell_type": "code",
   "execution_count": 2,
   "id": "74003faa-77cb-4204-8cca-c04b61e68940",
   "metadata": {},
   "outputs": [],
   "source": [
    "#approach1"
   ]
  },
  {
   "cell_type": "code",
   "execution_count": 1,
   "id": "60f5e624-2480-4544-a8b1-fd8c5a7688d5",
   "metadata": {},
   "outputs": [
    {
     "name": "stderr",
     "output_type": "stream",
     "text": [
      "C:\\Users\\SaikishorePichili\\anaconda3\\Lib\\site-packages\\sentence_transformers\\cross_encoder\\CrossEncoder.py:11: TqdmExperimentalWarning: Using `tqdm.autonotebook.tqdm` in notebook mode. Use `tqdm.tqdm` instead to force console mode (e.g. in jupyter console)\n",
      "  from tqdm.autonotebook import tqdm, trange\n"
     ]
    },
    {
     "name": "stdout",
     "output_type": "stream",
     "text": [
      "WARNING:tensorflow:From C:\\Users\\SaikishorePichili\\anaconda3\\Lib\\site-packages\\keras\\src\\losses.py:2976: The name tf.losses.sparse_softmax_cross_entropy is deprecated. Please use tf.compat.v1.losses.sparse_softmax_cross_entropy instead.\n",
      "\n"
     ]
    },
    {
     "name": "stderr",
     "output_type": "stream",
     "text": [
      "No sentence-transformers model found with name sentence-transformers/all-MiniLM-L6-v2. Creating a new one with mean pooling.\n",
      "C:\\Users\\SaikishorePichili\\anaconda3\\Lib\\site-packages\\huggingface_hub\\file_download.py:1132: FutureWarning: `resume_download` is deprecated and will be removed in version 1.0.0. Downloads always resume when possible. If you want to force a new download, use `force_download=True`.\n",
      "  warnings.warn(\n",
      "C:\\Users\\SaikishorePichili\\anaconda3\\Lib\\site-packages\\sklearn\\cluster\\_kmeans.py:870: FutureWarning: The default value of `n_init` will change from 10 to 'auto' in 1.4. Set the value of `n_init` explicitly to suppress the warning\n",
      "  warnings.warn(\n",
      "C:\\Users\\SaikishorePichili\\anaconda3\\Lib\\site-packages\\sklearn\\cluster\\_kmeans.py:1382: UserWarning: KMeans is known to have a memory leak on Windows with MKL, when there are less chunks than available threads. You can avoid it by setting the environment variable OMP_NUM_THREADS=1.\n",
      "  warnings.warn(\n"
     ]
    },
    {
     "data": {
      "image/png": "[encoded data removed]",
      "text/plain": [
       "<Figure size 800x600 with 1 Axes>"
      ]
     },
     "metadata": {},
     "output_type": "display_data"
    },
    {
     "name": "stdout",
     "output_type": "stream",
     "text": [
      "                                             Article  Cluster\n",
      "0  Artificial intelligence is transforming indust...        1\n",
      "1  Machine learning is a subset of AI that focuse...        1\n",
      "2  Deep learning utilizes neural networks for com...        1\n",
      "3  The stock market fluctuates based on economic ...        2\n",
      "4  Cryptocurrency markets exhibit high volatility...        2\n",
      "5  Climate change impacts global weather patterns...        0\n",
      "6  Renewable energy sources like solar and wind p...        0\n"
     ]
    }
   ],
   "source": [
    "import numpy as np\n",
    "import pandas as pd\n",
    "import torch\n",
    "from sklearn.cluster import KMeans\n",
    "from sklearn.decomposition import PCA\n",
    "from sentence_transformers import SentenceTransformer\n",
    "import matplotlib.pyplot as plt\n",
    "import seaborn as sns\n",
    "\n",
    "\n",
    "articles = [\n",
    "    \"Artificial intelligence is transforming industries worldwide.\",\n",
    "    \"Machine learning is a subset of AI that focuses on pattern recognition.\",\n",
    "    \"Deep learning utilizes neural networks for complex tasks like image recognition.\",\n",
    "    \"The stock market fluctuates based on economic indicators and investor sentiment.\",\n",
    "    \"Cryptocurrency markets exhibit high volatility and speculative trading behaviors.\",\n",
    "    \"Climate change impacts global weather patterns and sea levels.\",\n",
    "    \"Renewable energy sources like solar and wind power are crucial for sustainability.\"\n",
    "]\n",
    "\n",
    "\n",
    "model = SentenceTransformer('all-MiniLM-L6-v2')\n",
    "embeddings = model.encode(articles, convert_to_tensor=True)\n",
    "\n",
    "\n",
    "pca = PCA(n_components=2)\n",
    "reduced_embeddings = pca.fit_transform(embeddings.cpu().detach().numpy())\n",
    "\n",
    "\n",
    "n_clusters = 3 \n",
    "kmeans = KMeans(n_clusters=n_clusters, random_state=42)\n",
    "clusters = kmeans.fit_predict(reduced_embeddings)\n",
    "\n",
    "\n",
    "article_df = pd.DataFrame({\n",
    "    \"Article\": articles,\n",
    "    \"Cluster\": clusters\n",
    "})\n",
    "\n",
    "\n",
    "plt.figure(figsize=(8, 6))\n",
    "sns.scatterplot(x=reduced_embeddings[:, 0], y=reduced_embeddings[:, 1], hue=clusters, palette=\"viridis\")\n",
    "plt.title(\"Article Clustering Visualization\")\n",
    "plt.xlabel(\"PCA Component 1\")\n",
    "plt.ylabel(\"PCA Component 2\")\n",
    "plt.show()\n",
    "\n",
    "\n",
    "print(article_df)\n"
   ]
  },
  {
   "cell_type": "code",
   "execution_count": 3,
   "id": "277f9a2a-037a-4282-b785-0c8a68115c7f",
   "metadata": {},
   "outputs": [],
   "source": [
    "#approach2"
   ]
  },
  {
   "cell_type": "code",
   "execution_count": 4,
   "id": "197ce2c9-653c-4424-aa5b-2c83eae52bfe",
   "metadata": {},
   "outputs": [],
   "source": [
    "words = [word.lower() for article in articles for word in article.split()]\n",
    "unique_words = list(set(words))"
   ]
  },
  {
   "cell_type": "code",
   "execution_count": 5,
   "id": "4a64dc25-8f23-46b6-88d5-34b3df334899",
   "metadata": {},
   "outputs": [
    {
     "data": {
      "text/plain": [
       "['subset',\n",
       " 'industries',\n",
       " 'climate',\n",
       " 'crucial',\n",
       " 'renewable',\n",
       " 'machine',\n",
       " 'based',\n",
       " 'levels.',\n",
       " 'wind',\n",
       " 'patterns',\n",
       " 'is',\n",
       " 'focuses',\n",
       " 'global',\n",
       " 'weather',\n",
       " 'markets',\n",
       " 'economic',\n",
       " 'sustainability.',\n",
       " 'utilizes',\n",
       " 'stock',\n",
       " 'learning',\n",
       " 'market',\n",
       " 'sources',\n",
       " 'impacts',\n",
       " 'ai',\n",
       " 'like',\n",
       " 'indicators',\n",
       " 'and',\n",
       " 'energy',\n",
       " 'speculative',\n",
       " 'trading',\n",
       " 'solar',\n",
       " 'cryptocurrency',\n",
       " 'change',\n",
       " 'on',\n",
       " 'fluctuates',\n",
       " 'tasks',\n",
       " 'a',\n",
       " 'behaviors.',\n",
       " 'pattern',\n",
       " 'worldwide.',\n",
       " 'transforming',\n",
       " 'recognition.',\n",
       " 'sentiment.',\n",
       " 'that',\n",
       " 'are',\n",
       " 'volatility',\n",
       " 'image',\n",
       " 'sea',\n",
       " 'the',\n",
       " 'of',\n",
       " 'investor',\n",
       " 'exhibit',\n",
       " 'intelligence',\n",
       " 'networks',\n",
       " 'for',\n",
       " 'complex',\n",
       " 'artificial',\n",
       " 'neural',\n",
       " 'power',\n",
       " 'deep',\n",
       " 'high']"
      ]
     },
     "execution_count": 5,
     "metadata": {},
     "output_type": "execute_result"
    }
   ],
   "source": [
    "unique_words"
   ]
  },
  {
   "cell_type": "code",
   "execution_count": 6,
   "id": "c5fb0fd5-87e0-4767-85f3-dec01867e1ea",
   "metadata": {},
   "outputs": [
    {
     "name": "stderr",
     "output_type": "stream",
     "text": [
      "No sentence-transformers model found with name sentence-transformers/all-MiniLM-L6-v2. Creating a new one with mean pooling.\n",
      "C:\\Users\\SaikishorePichili\\anaconda3\\Lib\\site-packages\\huggingface_hub\\file_download.py:1132: FutureWarning: `resume_download` is deprecated and will be removed in version 1.0.0. Downloads always resume when possible. If you want to force a new download, use `force_download=True`.\n",
      "  warnings.warn(\n"
     ]
    }
   ],
   "source": [
    "model = SentenceTransformer('all-MiniLM-L6-v2')\n",
    "embeddings = model.encode(unique_words, convert_to_tensor=True)\n"
   ]
  },
  {
   "cell_type": "code",
   "execution_count": 10,
   "id": "de5a70a7-2622-49bf-a8b2-9f6d002a9ac8",
   "metadata": {},
   "outputs": [],
   "source": [
    "import numpy as np\n",
    "import pandas as pd\n",
    "import torch\n",
    "from sklearn.cluster import KMeans\n",
    "from sklearn.decomposition import PCA\n",
    "from sklearn.metrics import silhouette_score\n",
    "from sentence_transformers import SentenceTransformer\n",
    "import matplotlib.pyplot as plt\n",
    "import seaborn as sns\n",
    "\n",
    "import warnings\n",
    "warnings.filterwarnings('ignore')"
   ]
  },
  {
   "cell_type": "code",
   "execution_count": 7,
   "id": "5574ccf5-e5e0-49ac-8ec9-c47703a2c329",
   "metadata": {},
   "outputs": [],
   "source": [
    "pca = PCA(n_components=2)\n",
    "reduced_embeddings = pca.fit_transform(embeddings.cpu().detach().numpy())"
   ]
  },
  {
   "cell_type": "code",
   "execution_count": 11,
   "id": "3240d3f8-1ccf-4e4c-b34a-bda6ef5b6eaa",
   "metadata": {},
   "outputs": [],
   "source": [
    "silhouette_scores = {}\n",
    "for n in range(2, 10):\n",
    "    kmeans = KMeans(n_clusters=n, random_state=42)\n",
    "    labels = kmeans.fit_predict(reduced_embeddings)\n",
    "    silhouette_scores[n] = silhouette_score(reduced_embeddings, labels)"
   ]
  },
  {
   "cell_type": "code",
   "execution_count": 12,
   "id": "cc3180b8-aa7e-40a4-a29a-7397aea93bd1",
   "metadata": {},
   "outputs": [
    {
     "data": {
      "text/plain": [
       "{2: 0.5486988,\n",
       " 3: 0.4784836,\n",
       " 4: 0.43586314,\n",
       " 5: 0.49615425,\n",
       " 6: 0.47024208,\n",
       " 7: 0.5000048,\n",
       " 8: 0.5123103,\n",
       " 9: 0.46948174}"
      ]
     },
     "execution_count": 12,
     "metadata": {},
     "output_type": "execute_result"
    }
   ],
   "source": [
    "silhouette_scores"
   ]
  },
  {
   "cell_type": "code",
   "execution_count": 13,
   "id": "1d923cef-b471-4021-99ed-201e299ef828",
   "metadata": {},
   "outputs": [],
   "source": [
    "optimal_clusters = max(silhouette_scores, key=silhouette_scores.get)\n",
    "kmeans = KMeans(n_clusters=optimal_clusters, random_state=42)\n",
    "clusters = kmeans.fit_predict(reduced_embeddings)"
   ]
  },
  {
   "cell_type": "code",
   "execution_count": 14,
   "id": "67fe63c3-4179-4251-a5e4-c6859d229d8d",
   "metadata": {},
   "outputs": [],
   "source": [
    "word_df = pd.DataFrame({\n",
    "    \"Word\": unique_words,\n",
    "    \"Cluster\": clusters\n",
    "})\n"
   ]
  },
  {
   "cell_type": "code",
   "execution_count": 15,
   "id": "38c2ac6a-268a-442d-9826-57b4c5545750",
   "metadata": {},
   "outputs": [
    {
     "data": {
      "image/png": "[encoded data removed]",
      "text/plain": [
       "<Figure size 800x600 with 1 Axes>"
      ]
     },
     "metadata": {},
     "output_type": "display_data"
    }
   ],
   "source": [
    "plt.figure(figsize=(8, 6))\n",
    "sns.scatterplot(x=reduced_embeddings[:, 0], y=reduced_embeddings[:, 1], hue=clusters, palette=\"viridis\", legend=True)\n",
    "plt.title(\"Word Clustering Visualization\")\n",
    "plt.xlabel(\"PCA Component 1\")\n",
    "plt.ylabel(\"PCA Component 2\")\n",
    "plt.show()\n"
   ]
  },
  {
   "cell_type": "code",
   "execution_count": 16,
   "id": "9aae69a6-8735-4be3-8081-899be4950dec",
   "metadata": {},
   "outputs": [
    {
     "name": "stdout",
     "output_type": "stream",
     "text": [
      "Cluster 0: subset, climate, crucial, renewable, machine, based, levels., wind, patterns, is, focuses, global, weather, sustainability., utilizes, learning, sources, impacts, ai, like, indicators, and, energy, speculative, solar, change, on, fluctuates, tasks, a, behaviors., pattern, worldwide., transforming, recognition., sentiment., that, are, volatility, image, sea, the, of, exhibit, intelligence, networks, for, complex, artificial, neural, power, deep, high\n",
      "Cluster 1: industries, markets, economic, stock, market, trading, cryptocurrency, investor\n"
     ]
    }
   ],
   "source": [
    "for cluster in sorted(word_df[\"Cluster\"].unique()):\n",
    "    print(f\"Cluster {cluster}:\", \", \".join(word_df[word_df[\"Cluster\"] == cluster][\"Word\"].tolist()))"
   ]
  },
  {
   "cell_type": "code",
   "execution_count": null,
   "id": "63a3c078-4c78-4a97-9cf3-75e2723c893f",
   "metadata": {},
   "outputs": [],
   "source": []
  }
 ],
 "metadata": {
  "kernelspec": {
   "display_name": "Python 3 (ipykernel)",
   "language": "python",
   "name": "python3"
  },
  "language_info": {
   "codemirror_mode": {
    "name": "ipython",
    "version": 3
   },
   "file_extension": ".py",
   "mimetype": "text/x-python",
   "name": "python",
   "nbconvert_exporter": "python",
   "pygments_lexer": "ipython3",
   "version": "3.11.7"
  }
 },
 "nbformat": 4,
 "nbformat_minor": 5
}
